{
 "cells": [
  {
   "cell_type": "code",
   "execution_count": 122,
   "metadata": {
    "collapsed": true
   },
   "outputs": [],
   "source": [
    "# load config\n",
    "\n",
    "import json\n",
    "import os.path\n",
    "import types\n",
    "\n",
    "with open('config.json') as f:\n",
    "    config = json.load(f)"
   ]
  },
  {
   "cell_type": "code",
   "execution_count": 123,
   "outputs": [
    {
     "name": "stdout",
     "output_type": "stream",
     "text": [
      "classes: [<class 'sqlalchemy.ext.automap.artists'>, <class 'sqlalchemy.ext.automap.albums'>, <class 'sqlalchemy.ext.automap.comments'>, <class 'sqlalchemy.ext.automap.users'>, <class 'sqlalchemy.ext.automap.tracks'>, <class 'sqlalchemy.ext.automap.playlists'>, <class 'sqlalchemy.ext.automap.playlist_tracks'>, <class 'sqlalchemy.ext.automap.track_emotions'>]\n",
      "track: {'__table__': Table('tracks', MetaData(), Column('id', BIGINT(), table=<tracks>, primary_key=True, nullable=False, server_default=DefaultClause(<sqlalchemy.sql.elements.TextClause object at 0x130f3aee0>, for_update=False)), Column('name', TEXT(), table=<tracks>), Column('pop', BIGINT(), table=<tracks>), Column('publish_time', BIGINT(), table=<tracks>), Column('lyric', TEXT(), table=<tracks>), schema=None), '__module__': 'sqlalchemy.ext.automap', '__doc__': None, '_sa_class_manager': <ClassManager of <class 'sqlalchemy.ext.automap.tracks'> at 12db67770>, '__init__': <function __init__ at 0x1245b85e0>, 'id': <sqlalchemy.orm.attributes.InstrumentedAttribute object at 0x12f04acc0>, 'name': <sqlalchemy.orm.attributes.InstrumentedAttribute object at 0x12f04a130>, 'pop': <sqlalchemy.orm.attributes.InstrumentedAttribute object at 0x12f04a590>, 'publish_time': <sqlalchemy.orm.attributes.InstrumentedAttribute object at 0x12f04af40>, 'lyric': <sqlalchemy.orm.attributes.InstrumentedAttribute object at 0x12f04aea0>, '__mapper__': <Mapper at 0x130fbf0a0; tracks>}\n"
     ]
    }
   ],
   "source": [
    "# init db\n",
    "\n",
    "from sqlalchemy import create_engine\n",
    "from sqlalchemy.ext.automap import automap_base\n",
    "\n",
    "engine = create_engine(config['db'])\n",
    "\n",
    "Base = automap_base()\n",
    "Base.prepare(engine, reflect=True)\n",
    "\n",
    "Track = Base.classes.tracks\n",
    "Comment = Base.classes.comments\n",
    "TrackEmotion = Base.classes.track_emotions\n",
    "\n",
    "print('classes:', list(Base.classes))\n",
    "print('track:', vars(Track))"
   ],
   "metadata": {
    "collapsed": false,
    "pycharm": {
     "name": "#%%\n"
    }
   }
  },
  {
   "cell_type": "code",
   "execution_count": 124,
   "outputs": [
    {
     "data": {
      "text/plain": "['PB 0.28915776373271723',\n 'PH 0.22500498277984793',\n 'NB 0.13196447527078803',\n 'NC 0.10762529059675584',\n 'PG 0.0669708566180034',\n 'PA 0.06277133598592072',\n 'PF 0.05137391504696592',\n 'NN 0.0371243899615215',\n 'PE 0.015441845294230462',\n 'ND 0.007877356250153731',\n 'NE 0.004687788463095236']"
     },
     "execution_count": 124,
     "metadata": {},
     "output_type": "execute_result"
    }
   ],
   "source": [
    "# 获取已标注好的情感: track_emotions_collection\n",
    "\n",
    "from sqlalchemy.orm import Session\n",
    "\n",
    "session = Session(engine)\n",
    "\n",
    "t = session.query(Track).order_by(Track.pop.desc())[0]\n",
    "list(\n",
    "    map(\n",
    "        lambda x: f'{x.emotion} {x.intensity}',\n",
    "        sorted(\n",
    "            t.track_emotions_collection,\n",
    "            key=lambda x: -x.intensity\n",
    "        )\n",
    "    )\n",
    ")"
   ],
   "metadata": {
    "collapsed": false,
    "pycharm": {
     "name": "#%%\n"
    }
   }
  },
  {
   "cell_type": "code",
   "execution_count": 125,
   "outputs": [
    {
     "data": {
      "text/plain": "['PA',\n 'PE',\n 'PD',\n 'PH',\n 'PG',\n 'PB',\n 'PK',\n 'NA',\n 'NB',\n 'NJ',\n 'NH',\n 'PF',\n 'NI',\n 'NC',\n 'NG',\n 'NE',\n 'ND',\n 'NN',\n 'NK',\n 'NL',\n 'PC']"
     },
     "execution_count": 125,
     "metadata": {},
     "output_type": "execute_result"
    }
   ],
   "source": [
    "# 把上面这种结果映射到 emotext.EmotionResult: 让数据按照一个固定顺序，缺失上零值\n",
    "\n",
    "import emotext\n",
    "\n",
    "emotext.emotions  # 顺序"
   ],
   "metadata": {
    "collapsed": false,
    "pycharm": {
     "name": "#%%\n"
    }
   }
  },
  {
   "cell_type": "code",
   "execution_count": 126,
   "outputs": [
    {
     "data": {
      "text/plain": "Emotion(PA=0.06277133598592072, PE=0.015441845294230462, PD=0, PH=0.22500498277984793, PG=0.0669708566180034, PB=0.28915776373271723, PK=0, NA=0, NB=0.13196447527078803, NJ=0, NH=0, PF=0.05137391504696592, NI=0, NC=0.10762529059675584, NG=0, NE=0.004687788463095236, ND=0.007877356250153731, NN=0.0371243899615215, NK=0, NL=0, PC=0)"
     },
     "execution_count": 126,
     "metadata": {},
     "output_type": "execute_result"
    }
   ],
   "source": [
    "from typing import List\n",
    "from collections import namedtuple\n",
    "\n",
    "# 一开始 emotext.EmotionResult 不知道怎么想的用了 dict\n",
    "# 应该用 namedtuple 的。。不管了，在这里转一下吧。\n",
    "\n",
    "Emotion = namedtuple('Emotion', emotext.emotions)\n",
    "\n",
    "\n",
    "def keys(self):\n",
    "    return self._fields\n",
    "\n",
    "\n",
    "def values(self):\n",
    "    return tuple(self)\n",
    "\n",
    "\n",
    "Emotion.keys = keys\n",
    "Emotion.values = values\n",
    "\n",
    "\n",
    "def emotion_vector(emotions: List[TrackEmotion]) -> Emotion:\n",
    "    elems = dict.fromkeys(emotext.emotions, 0)\n",
    "    elems.update({x.emotion: x.intensity for x in emotions})\n",
    "    ev = Emotion(**elems)\n",
    "\n",
    "    return ev\n",
    "\n",
    "\n",
    "e = emotion_vector(t.track_emotions_collection)\n",
    "e"
   ],
   "metadata": {
    "collapsed": false,
    "pycharm": {
     "name": "#%%\n"
    }
   }
  },
  {
   "cell_type": "code",
   "execution_count": 127,
   "outputs": [
    {
     "name": "stdout",
     "output_type": "stream",
     "text": [
      "8989 samples: saved as savedata/1646114955-8989.json\n",
      "sample [0]: 60008 Emotion(PA=0.1398622996458419, PE=0, PD=0, PH=0.41148582859157773, PG=0, PB=0.11334713828394757, PK=0, NA=0, NB=0.040660937589600016, NJ=0, NH=0, PF=0.06367286256663753, NI=0, NC=0.06174120171419717, NG=0, NE=0, ND=0.13856680617549905, NN=0.030662925432699092, NK=0, NL=0, PC=0)\n"
     ]
    }
   ],
   "source": [
    "# 做训练数据集了\n",
    "\n",
    "import time\n",
    "import os.path\n",
    "\n",
    "MAX_DATA_SIZE = 12000\n",
    "\n",
    "# data_ids = []\n",
    "# data = []\n",
    "data = {\n",
    "    'ids': [],\n",
    "    'emo': [],\n",
    "}\n",
    "\n",
    "# query db\n",
    "for t in session.query(Track).order_by(Track.pop.desc(), Track.id)[:MAX_DATA_SIZE]:\n",
    "    if not t.track_emotions_collection:\n",
    "        continue\n",
    "    data['ids'].append(t.id)\n",
    "    data['emo'].append(emotion_vector(t.track_emotions_collection))\n",
    "\n",
    "# save JSON\n",
    "savefile = os.path.join('savedata', f'{int(time.time())}-{len(data[\"ids\"])}.json')\n",
    "with open(savefile, 'w') as f:\n",
    "    json.dump(data, f)\n",
    "\n",
    "print(len(data['ids']), f'samples: saved as {savefile}')\n",
    "print('sample [0]:', data['ids'][0], data['emo'][0])"
   ],
   "metadata": {
    "collapsed": false,
    "pycharm": {
     "name": "#%%\n"
    }
   }
  },
  {
   "cell_type": "code",
   "execution_count": 128,
   "outputs": [
    {
     "data": {
      "text/plain": "(8989, 21)"
     },
     "execution_count": 128,
     "metadata": {},
     "output_type": "execute_result"
    }
   ],
   "source": [
    "# 训练样本\n",
    "\n",
    "import numpy as np\n",
    "\n",
    "X = np.array(data['emo'])\n",
    "X.shape"
   ],
   "metadata": {
    "collapsed": false,
    "pycharm": {
     "name": "#%%\n"
    }
   }
  },
  {
   "cell_type": "code",
   "execution_count": 129,
   "outputs": [],
   "source": [
    "# 拟合邻近模型\n",
    "\n",
    "from sklearn.neighbors import NearestNeighbors\n",
    "from joblib import dump, load  # for model persistence, see: https://scikit-learn.org/stable/modules/model_persistence.html#model-persistence\n",
    "\n",
    "def neighbors_fit(X) -> NearestNeighbors:\n",
    "    \"\"\"拟合并保存模型\n",
    "\n",
    "    :param X: [[...]...]\n",
    "    :return: 训练好的 NearestNeighbors\n",
    "    \"\"\"\n",
    "    nbrs = NearestNeighbors(n_neighbors=10, algorithm='ball_tree').fit(X)\n",
    "    # 上面的参数 n_neighbors 是查询 nbrs.kneighbors([...]) 不传结果数量时返回的默认值\n",
    "\n",
    "    savefile = os.path.join('savemodels', f'{int(time.time())}-{len(X)}.joblib')\n",
    "    dump(nbrs, savefile)\n",
    "\n",
    "    return nbrs\n",
    "\n",
    "nbrs = neighbors_fit(X)"
   ],
   "metadata": {
    "collapsed": false,
    "pycharm": {
     "name": "#%%\n"
    }
   }
  },
  {
   "cell_type": "code",
   "execution_count": 130,
   "outputs": [
    {
     "data": {
      "text/plain": "Emotion(PA=0, PE=0, PD=0, PH=0, PG=2.5371288177625, PB=0, PK=0, NA=0, NB=0, NJ=4.310553996041667, NH=1.8303566099925, PF=0, NI=0, NC=0, NG=0, NE=1.7690481514, ND=0, NN=0, NK=0, NL=0, PC=0)"
     },
     "execution_count": 130,
     "metadata": {},
     "output_type": "execute_result"
    }
   ],
   "source": [
    "# 测试\n",
    "\n",
    "t = '后悔也都没有用 还不如一切没有发生过 不过就是又少一个诗人 换一个人沉迷你的笑'\n",
    "\n",
    "Emotext = emotext.Emotions()\n",
    "\n",
    "r = Emotext.emotion_count(t)\n",
    "e = Emotion(**r.emotions)\n",
    "\n",
    "e"
   ],
   "metadata": {
    "collapsed": false,
    "pycharm": {
     "name": "#%%\n"
    }
   }
  },
  {
   "cell_type": "code",
   "execution_count": 131,
   "outputs": [
    {
     "name": "stdout",
     "output_type": "stream",
     "text": [
      "dist=5.2126: (210287)\t 遗憾 - ['陈洁仪']\n",
      "dist=5.2308: (27731486)\t Talk Dirty (feat. 2 Chainz) - ['Jason Derulo', '2 Chainz']\n",
      "dist=5.2419: (34834450)\t 雷克雅未克 - ['麦浚龙', '周国贤']\n",
      "dist=5.2424: (307018)\t 遗憾 - ['许美静']\n",
      "dist=5.2449: (108983)\t 会有那么一天 - ['林俊杰']\n",
      "dist=5.2636: (25650033)\t 遗憾 - ['李代沫']\n",
      "dist=5.2736: (409647388)\t 3 Strikes - ['Terror Jr']\n",
      "dist=5.2784: (64825)\t 太阳照常升起 - ['陈奕迅']\n",
      "dist=5.2963: (566436203)\t 加油歌 - ['宝宝巴士']\n",
      "dist=5.3183: (1943186)\t Blanc - ['Sylvain Chauveau']\n"
     ]
    }
   ],
   "source": [
    "distances, indices = nbrs.kneighbors([e], 10)\n",
    "\n",
    "def print_nbrs(distances, indices):\n",
    "    for i in range(len(indices[0])):\n",
    "        idx = indices[0][i]\n",
    "        dst = distances[0][i]\n",
    "\n",
    "        id = data['ids'][idx]\n",
    "        t = session.query(Track).where(Track.id == id)[0]\n",
    "        ar = list(map(lambda a: a.name, t.artists_collection))\n",
    "\n",
    "        print(f'dist={dst:.4f}: ({t.id})\\t {t.name} - {ar}')\n",
    "\n",
    "print_nbrs(distances, indices)"
   ],
   "metadata": {
    "collapsed": false,
    "pycharm": {
     "name": "#%%\n"
    }
   }
  },
  {
   "cell_type": "code",
   "execution_count": 132,
   "outputs": [
    {
     "name": "stdout",
     "output_type": "stream",
     "text": [
      "Emotion(PA=0, PE=0, PD=0, PH=0, PG=2.5371288177625, PB=0, PK=0, NA=0, NB=0, NJ=4.310553996041667, NH=1.8303566099925, PF=0, NI=0, NC=0, NG=0, NE=1.7690481514, ND=0, NN=0, NK=0, NL=0, PC=0)\n",
      "dist=5.2126: (210287)\t 遗憾 - ['陈洁仪']\n",
      "dist=5.2308: (27731486)\t Talk Dirty (feat. 2 Chainz) - ['Jason Derulo', '2 Chainz']\n",
      "dist=5.2419: (34834450)\t 雷克雅未克 - ['麦浚龙', '周国贤']\n",
      "dist=5.2424: (307018)\t 遗憾 - ['许美静']\n",
      "dist=5.2449: (108983)\t 会有那么一天 - ['林俊杰']\n",
      "dist=5.2636: (25650033)\t 遗憾 - ['李代沫']\n",
      "dist=5.2736: (409647388)\t 3 Strikes - ['Terror Jr']\n",
      "dist=5.2784: (64825)\t 太阳照常升起 - ['陈奕迅']\n",
      "dist=5.2963: (566436203)\t 加油歌 - ['宝宝巴士']\n",
      "dist=5.3183: (1943186)\t Blanc - ['Sylvain Chauveau']\n"
     ]
    }
   ],
   "source": [
    "# 整理一下上面的步骤\n",
    "\n",
    "def recommend_from_text(text: str):\n",
    "    \"\"\"给文本，算情感，找近邻，作推荐\n",
    "\n",
    "    :param text: 推荐种子文本\n",
    "    :return: (emotion, distances, tracks): 计算得到的 text 情感，和推荐结果：距离与曲目\n",
    "    \"\"\"\n",
    "\n",
    "    # emotext\n",
    "    r = Emotext.emotion_count(text)\n",
    "    e = Emotion(**r.emotions)\n",
    "\n",
    "    # recommend\n",
    "    distances, indices = nbrs.kneighbors([e], 10)\n",
    "\n",
    "    # result tracks\n",
    "    tracks = []\n",
    "    for i in range(len(indices[0])):\n",
    "        idx = indices[0][i]\n",
    "        id = data['ids'][idx]\n",
    "        t = session.query(Track).where(Track.id == id)[0]\n",
    "        tracks.append(t)\n",
    "\n",
    "    return e, distances, tracks\n",
    "\n",
    "def print_nbrs(distances, tracks):\n",
    "    for d, t in zip(distances[0], tracks):\n",
    "        ar = list(map(lambda a: a.name, t.artists_collection))\n",
    "        print(f'dist={d:.4f}: ({t.id})\\t {t.name} - {ar}')\n",
    "\n",
    "emotion, distances, tracks = recommend_from_text('后悔也都没有用 还不如一切没有发生过 不过就是又少一个诗人 换一个人沉迷你的笑')\n",
    "print(emotion)\n",
    "print_nbrs(distances, tracks)"
   ],
   "metadata": {
    "collapsed": false,
    "pycharm": {
     "name": "#%%\n"
    }
   }
  },
  {
   "cell_type": "code",
   "execution_count": 133,
   "outputs": [
    {
     "name": "stdout",
     "output_type": "stream",
     "text": [
      "text='喜欢你'\n",
      "Emotion(PA=0, PE=0, PD=0, PH=0, PG=0, PB=28.512942015100002, PK=0, NA=0, NB=0, NJ=0, NH=0, PF=0, NI=0, NC=0, NG=0, NE=0, ND=0, NN=0, NK=0, NL=0, PC=0)\n",
      "recommend:\n",
      "dist=27.5129: (467590240)\t Anzap - ['Erkan KILIÇ']\n",
      "dist=27.6027: (82028)\t 好好恋爱 - ['方力申']\n",
      "dist=27.6463: (538610029)\t Slow - ['落日飞车']\n",
      "dist=27.6511: (453927759)\t 宝贝 (in the night) - ['张悬']\n",
      "dist=27.6672: (36150596)\t Atlas Koynak - ['Hazritiali']\n",
      "dist=27.6699: (187134)\t 朋友 - ['周华健']\n",
      "dist=27.6810: (546279760)\t 目不转睛 - ['王以太']\n",
      "dist=27.7144: (28718300)\t 形影不离 - ['张纹嘉']\n",
      "dist=27.7308: (209732)\t 爱情36计 - ['蔡依林']\n",
      "dist=27.7646: (386542)\t 拥抱 - ['五月天']\n"
     ]
    }
   ],
   "source": [
    "def _recommend_and_print(text):\n",
    "    emotion, distances, tracks = recommend_from_text(text)\n",
    "    print(f'{text=}')\n",
    "    print(emotion)\n",
    "    print('recommend:')\n",
    "    print_nbrs(distances, tracks)\n",
    "\n",
    "_recommend_and_print('喜欢你')"
   ],
   "metadata": {
    "collapsed": false,
    "pycharm": {
     "name": "#%%\n"
    }
   }
  },
  {
   "cell_type": "code",
   "execution_count": 134,
   "outputs": [
    {
     "name": "stdout",
     "output_type": "stream",
     "text": [
      "text='讨厌你'\n",
      "Emotion(PA=0, PE=0, PD=0, PH=0, PG=0, PB=0, PK=0, NA=0, NB=0, NJ=0, NH=0, PF=0, NI=0, NC=0, NG=0, NE=0, ND=57.262561127590004, NN=0, NK=0, NL=0, PC=0)\n",
      "recommend:\n",
      "dist=56.2626: (1311035602)\t Gucci Flip Flops (feat. Lil Yachty) - ['Lil Yachty', 'Bhad Bhabie']\n",
      "dist=56.4572: (28303867)\t Come Back Down (Original Mix) - ['TJR', 'Benji Madden']\n",
      "dist=56.5381: (1303079913)\t 活死人2018Cypher - ['法老', '龙崎', '许宏阳Oxy', 'Buzzy', '小安迪LilAndy', 'YLevoled', '活死人', '小精灵', '戾仁Lyrin', '杨和苏KeyNG']\n",
      "dist=56.5398: (27808044)\t 丑八怪 - ['薛之谦']\n",
      "dist=56.5987: (569282112)\t Superstar (Miami Classic Mix) - ['Chris Decay', 'ELLA']\n",
      "dist=56.6339: (406346416)\t 海盗 - ['周杰伦', '蔡依林']\n",
      "dist=56.6539: (16660836)\t What Kind Of Woman Is This? - ['Buddy Guy']\n",
      "dist=56.6709: (29544259)\t No Glamour in the Hammer - ['Whitehorse']\n",
      "dist=56.6727: (5141647)\t Viva La Vida - ['Coldplay']\n",
      "dist=56.6824: (21534286)\t I Believe I Can Fly - ['R. Kelly']\n"
     ]
    }
   ],
   "source": [
    "_recommend_and_print('讨厌你')"
   ],
   "metadata": {
    "collapsed": false,
    "pycharm": {
     "name": "#%%\n"
    }
   }
  },
  {
   "cell_type": "code",
   "execution_count": 135,
   "outputs": [
    {
     "name": "stdout",
     "output_type": "stream",
     "text": [
      "text='想念你'\n",
      "Emotion(PA=0, PE=0, PD=0, PH=0, PG=0, PB=0, PK=0, NA=0, NB=0, NJ=0, NH=0, PF=44.551225326, NI=0, NC=0, NG=0, NE=0, ND=0, NN=0, NK=0, NL=0, PC=0)\n",
      "recommend:\n",
      "dist=43.8703: (375328)\t 小情歌 - ['苏打绿']\n",
      "dist=43.8875: (254059)\t 情歌 - ['梁静茹']\n",
      "dist=43.9200: (1306333181)\t 想对你说情话 - ['I·D·C']\n",
      "dist=43.9218: (68450)\t 小情歌 - ['苏打绿']\n",
      "dist=43.9311: (491787693)\t 情话 - ['余佳运']\n",
      "dist=43.9710: (30148268)\t 念念不忘 - ['麦浚龙']\n",
      "dist=43.9910: (86279)\t 情歌王 - ['古巨基']\n",
      "dist=43.9967: (28577372)\t 我就不爱唱情歌 - ['大张伟']\n",
      "dist=43.9982: (34341351)\t 爱的纪念 - ['Richard Clayderman']\n",
      "dist=44.0050: (5231418)\t 玛尼情歌 - ['上官红燕']\n"
     ]
    }
   ],
   "source": [
    "_recommend_and_print('想念你')"
   ],
   "metadata": {
    "collapsed": false,
    "pycharm": {
     "name": "#%%\n"
    }
   }
  },
  {
   "cell_type": "code",
   "execution_count": 136,
   "outputs": [
    {
     "name": "stdout",
     "output_type": "stream",
     "text": [
      "text='开心！'\n",
      "Emotion(PA=40.6617832809, PE=0, PD=0, PH=0, PG=0, PB=0, PK=0, NA=0, NB=0, NJ=0, NH=0, PF=0, NI=0, NC=0, NG=0, NE=0, ND=0, NN=24.397069968540002, NK=0, NL=0, PC=0)\n",
      "recommend:\n",
      "dist=46.5647: (566435190)\t 把舞儿跳起来 - ['宝宝巴士']\n",
      "dist=46.6690: (5281403)\t 欢乐年年 - ['杜德伟', '叶蒨文']\n",
      "dist=46.6705: (5281404)\t 恭喜你 - ['太极乐队']\n",
      "dist=46.6870: (5281402)\t 祝新岁 - ['吕方', '张卫健']\n",
      "dist=46.7089: (5281405)\t 恭喜恭喜 - ['林志颖', '钟镇涛']\n",
      "dist=46.7378: (28953350)\t 七夕 - ['许嵩']\n",
      "dist=46.7581: (29450091)\t 小宝贝 - ['夏天播放']\n",
      "dist=46.7615: (26548584)\t Happy - ['Pharrell Williams']\n",
      "dist=46.7830: (395167)\t 恭喜恭喜 - ['中国娃娃']\n",
      "dist=46.7876: (422094342)\t Kalle - ['Adrian Gaxha']\n"
     ]
    }
   ],
   "source": [
    "_recommend_and_print('开心！')"
   ],
   "metadata": {
    "collapsed": false,
    "pycharm": {
     "name": "#%%\n"
    }
   }
  },
  {
   "cell_type": "code",
   "execution_count": 137,
   "outputs": [
    {
     "name": "stdout",
     "output_type": "stream",
     "text": [
      "text='伤心'\n",
      "Emotion(PA=0, PE=0, PD=0, PH=0, PG=0, PB=0, PK=0, NA=0, NB=37.3467328502, NJ=0, NH=0, PF=0, NI=0, NC=0, NG=0, NE=0, ND=0, NN=0, NK=0, NL=0, PC=0)\n",
      "recommend:\n",
      "dist=36.3770: (545084839)\t Saga Man - ['Miradiljan-Bawudun']\n",
      "dist=36.4492: (546985787)\t Olganimda Yeglama - ['Young~Ali']\n",
      "dist=36.4968: (436514179)\t Bitalay - ['али музыка']\n",
      "dist=36.5484: (28310935)\t 无能为力 - ['纣王老胡']\n",
      "dist=36.5704: (484311380)\t Katti Katti - ['Muzo']\n",
      "dist=36.5727: (30569561)\t 黯然销魂 - ['玄觞']\n",
      "dist=36.5784: (1323303678)\t BAD! - ['XXXTENTACION']\n",
      "dist=36.5845: (484311378)\t Satarim - ['Muzo']\n",
      "dist=36.5875: (484314362)\t Katti Gulum (2) - ['Muzo']\n",
      "dist=36.5967: (349079)\t 失恋 - ['草蜢']\n"
     ]
    }
   ],
   "source": [
    "_recommend_and_print('伤心')"
   ],
   "metadata": {
    "collapsed": false,
    "pycharm": {
     "name": "#%%\n"
    }
   }
  },
  {
   "cell_type": "code",
   "execution_count": 143,
   "outputs": [
    {
     "name": "stdout",
     "output_type": "stream",
     "text": [
      "text='心如止水'\n",
      "Emotion(PA=0, PE=0, PD=0, PH=58.517265373, PG=0, PB=0, PK=0, NA=0, NB=0, NJ=0, NH=0, PF=0, NI=0, NC=0, NG=0, NE=0, ND=0, NN=0, NK=0, NL=0, PC=0)\n",
      "recommend:\n",
      "dist=57.5966: (566435171)\t 我们美丽的祖国 - ['宝宝巴士']\n",
      "dist=57.6006: (26608741)\t 甜蜜蜜 - ['邓丽君']\n",
      "dist=57.6722: (33419837)\t 安静 - ['黄子韬']\n",
      "dist=57.6825: (169794)\t 天下无双 - ['张靓颖']\n",
      "dist=57.6825: (229223)\t 月亮代表我的心 - ['邓丽君']\n",
      "dist=57.6979: (556995768)\t 曲率飞行 - ['昨夜派对（L.N Party）']\n",
      "dist=57.7002: (188376)\t 披星戴月 - ['张敬轩']\n",
      "dist=57.7340: (29019489)\t 1874 (Live) - ['陈慧娴']\n",
      "dist=57.7374: (454698352)\t Mercy - ['Bishop Briggs']\n",
      "dist=57.7386: (285100)\t 霞光 - ['曲锦楠']\n"
     ]
    }
   ],
   "source": [
    "_recommend_and_print('心如止水')"
   ],
   "metadata": {
    "collapsed": false,
    "pycharm": {
     "name": "#%%\n"
    }
   }
  },
  {
   "cell_type": "markdown",
   "source": [
    "目测 MAX 开 10000 效果差不多已经最好了，后面的数据质量不高，出来结果乱七八糟的。\n",
    "\n",
    "效果确实不太行。\n",
    "\n",
    "可以考虑把推荐筛除来的一堆结果再用某种方法筛一次。"
   ],
   "metadata": {
    "collapsed": false,
    "pycharm": {
     "name": "#%% md\n"
    }
   }
  }
 ],
 "metadata": {
  "kernelspec": {
   "display_name": "Python 3",
   "language": "python",
   "name": "python3"
  },
  "language_info": {
   "codemirror_mode": {
    "name": "ipython",
    "version": 2
   },
   "file_extension": ".py",
   "mimetype": "text/x-python",
   "name": "python",
   "nbconvert_exporter": "python",
   "pygments_lexer": "ipython2",
   "version": "2.7.6"
  }
 },
 "nbformat": 4,
 "nbformat_minor": 0
}