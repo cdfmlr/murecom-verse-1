{
 "cells": [
  {
   "cell_type": "code",
   "execution_count": 1,
   "metadata": {
    "collapsed": true
   },
   "outputs": [],
   "source": [
    "# load config\n",
    "\n",
    "import json\n",
    "import types\n",
    "\n",
    "with open('config.json') as f:\n",
    "    config = json.load(f)"
   ]
  },
  {
   "cell_type": "code",
   "execution_count": 2,
   "outputs": [
    {
     "name": "stdout",
     "output_type": "stream",
     "text": [
      "classes: [<class 'sqlalchemy.ext.automap.artists'>, <class 'sqlalchemy.ext.automap.albums'>, <class 'sqlalchemy.ext.automap.comments'>, <class 'sqlalchemy.ext.automap.users'>, <class 'sqlalchemy.ext.automap.tracks'>, <class 'sqlalchemy.ext.automap.playlists'>, <class 'sqlalchemy.ext.automap.playlist_tracks'>, <class 'sqlalchemy.ext.automap.track_emotions'>]\n",
      "track: {'__table__': Table('tracks', MetaData(), Column('id', BIGINT(), table=<tracks>, primary_key=True, nullable=False, server_default=DefaultClause(<sqlalchemy.sql.elements.TextClause object at 0x1127852e0>, for_update=False)), Column('name', TEXT(), table=<tracks>), Column('pop', BIGINT(), table=<tracks>), Column('publish_time', BIGINT(), table=<tracks>), Column('lyric', TEXT(), table=<tracks>), schema=None), '__module__': 'sqlalchemy.ext.automap', '__doc__': None, '_sa_class_manager': <ClassManager of <class 'sqlalchemy.ext.automap.tracks'> at 1127b3590>, '__init__': <function __init__ at 0x1127b7b80>, 'comments_collection': <sqlalchemy.orm.attributes.InstrumentedAttribute object at 0x1127cbe50>, 'albums_collection': <sqlalchemy.orm.attributes.InstrumentedAttribute object at 0x1127cbf40>, 'id': <sqlalchemy.orm.attributes.InstrumentedAttribute object at 0x1127cbd10>, 'name': <sqlalchemy.orm.attributes.InstrumentedAttribute object at 0x1127d4090>, 'pop': <sqlalchemy.orm.attributes.InstrumentedAttribute object at 0x1127d4130>, 'publish_time': <sqlalchemy.orm.attributes.InstrumentedAttribute object at 0x1127d41d0>, 'lyric': <sqlalchemy.orm.attributes.InstrumentedAttribute object at 0x1127d4270>, '__mapper__': <Mapper at 0x1127c2910; tracks>}\n"
     ]
    }
   ],
   "source": [
    "# init db\n",
    "\n",
    "from sqlalchemy import create_engine\n",
    "from sqlalchemy.ext.automap import automap_base\n",
    "\n",
    "engine = create_engine(config['db'])\n",
    "\n",
    "Base = automap_base()\n",
    "Base.prepare(engine, reflect=True)\n",
    "\n",
    "Track = Base.classes.tracks\n",
    "Comment = Base.classes.comments\n",
    "TrackEmotion = Base.classes.track_emotions\n",
    "\n",
    "print('classes:', list(Base.classes))\n",
    "print('track:', vars(Track))"
   ],
   "metadata": {
    "collapsed": false,
    "pycharm": {
     "name": "#%%\n"
    }
   }
  },
  {
   "cell_type": "code",
   "execution_count": 3,
   "outputs": [
    {
     "data": {
      "text/plain": "['PB 0.28915776373271723',\n 'PH 0.22500498277984793',\n 'NB 0.13196447527078803',\n 'NC 0.10762529059675584',\n 'PG 0.0669708566180034',\n 'PA 0.06277133598592072',\n 'PF 0.05137391504696592',\n 'NN 0.0371243899615215',\n 'PE 0.015441845294230462',\n 'ND 0.007877356250153731',\n 'NE 0.004687788463095236']"
     },
     "execution_count": 3,
     "metadata": {},
     "output_type": "execute_result"
    }
   ],
   "source": [
    "# 获取已标注好的情感: track_emotions_collection\n",
    "\n",
    "from sqlalchemy.orm import Session\n",
    "\n",
    "session = Session(engine)\n",
    "\n",
    "t = session.query(Track).order_by(Track.pop.desc())[0]\n",
    "list(\n",
    "    map(\n",
    "        lambda x: f'{x.emotion} {x.intensity}',\n",
    "        sorted(\n",
    "            t.track_emotions_collection,\n",
    "            key=lambda x: -x.intensity\n",
    "        )\n",
    "    )\n",
    ")"
   ],
   "metadata": {
    "collapsed": false,
    "pycharm": {
     "name": "#%%\n"
    }
   }
  },
  {
   "cell_type": "code",
   "execution_count": 4,
   "outputs": [
    {
     "data": {
      "text/plain": "['PA',\n 'PE',\n 'PD',\n 'PH',\n 'PG',\n 'PB',\n 'PK',\n 'NA',\n 'NB',\n 'NJ',\n 'NH',\n 'PF',\n 'NI',\n 'NC',\n 'NG',\n 'NE',\n 'ND',\n 'NN',\n 'NK',\n 'NL',\n 'PC']"
     },
     "execution_count": 4,
     "metadata": {},
     "output_type": "execute_result"
    }
   ],
   "source": [
    "# 把上面这种结果映射到 emotext.EmotionResult: 让数据按照一个固定顺序，缺失上零值\n",
    "\n",
    "import emotext\n",
    "\n",
    "emotext.emotions  # 顺序"
   ],
   "metadata": {
    "collapsed": false,
    "pycharm": {
     "name": "#%%\n"
    }
   }
  },
  {
   "cell_type": "code",
   "execution_count": 5,
   "outputs": [
    {
     "data": {
      "text/plain": "Emotion(PA=0.06277133598592072, PE=0.015441845294230462, PD=0, PH=0.22500498277984793, PG=0.0669708566180034, PB=0.28915776373271723, PK=0, NA=0, NB=0.13196447527078803, NJ=0, NH=0, PF=0.05137391504696592, NI=0, NC=0.10762529059675584, NG=0, NE=0.004687788463095236, ND=0.007877356250153731, NN=0.0371243899615215, NK=0, NL=0, PC=0)"
     },
     "execution_count": 5,
     "metadata": {},
     "output_type": "execute_result"
    }
   ],
   "source": [
    "from typing import List\n",
    "from collections import namedtuple\n",
    "\n",
    "# 一开始 emotext.EmotionResult 不知道怎么想的用了 dict\n",
    "# 应该用 namedtuple 的。。不管了，在这里转一下吧。\n",
    "\n",
    "Emotion = namedtuple('Emotion', emotext.emotions)\n",
    "\n",
    "\n",
    "def keys(self):\n",
    "    return self._fields\n",
    "\n",
    "\n",
    "def values(self):\n",
    "    return tuple(self)\n",
    "\n",
    "\n",
    "Emotion.keys = keys\n",
    "Emotion.values = values\n",
    "\n",
    "\n",
    "def emotion_vector(emotions: List[TrackEmotion]) -> Emotion:\n",
    "    elems = dict.fromkeys(emotext.emotions, 0)\n",
    "    elems.update({x.emotion: x.intensity for x in emotions})\n",
    "    ev = Emotion(**elems)\n",
    "\n",
    "    return ev\n",
    "\n",
    "\n",
    "e = emotion_vector(t.track_emotions_collection)\n",
    "e"
   ],
   "metadata": {
    "collapsed": false,
    "pycharm": {
     "name": "#%%\n"
    }
   }
  },
  {
   "cell_type": "code",
   "execution_count": 32,
   "outputs": [
    {
     "name": "stdout",
     "output_type": "stream",
     "text": [
      "726 60008 Emotion(PA=0.1398622996458419, PE=0, PD=0, PH=0.41148582859157773, PG=0, PB=0.11334713828394757, PK=0, NA=0, NB=0.040660937589600016, NJ=0, NH=0, PF=0.06367286256663753, NI=0, NC=0.06174120171419717, NG=0, NE=0, ND=0.13856680617549905, NN=0.030662925432699092, NK=0, NL=0, PC=0)\n"
     ]
    }
   ],
   "source": [
    "# 做训练数据集了\n",
    "\n",
    "MAX_DATA_SIZE = 1000\n",
    "\n",
    "data_ids = []\n",
    "data = []\n",
    "\n",
    "for t in session.query(Track).order_by(Track.pop.desc(), Track.id)[:MAX_DATA_SIZE]:\n",
    "    if not t.track_emotions_collection:\n",
    "        continue\n",
    "    data_ids.append(t.id)\n",
    "    data.append(emotion_vector(t.track_emotions_collection))\n",
    "\n",
    "print(len(data), data_ids[0], data[0])"
   ],
   "metadata": {
    "collapsed": false,
    "pycharm": {
     "name": "#%%\n"
    }
   }
  },
  {
   "cell_type": "code",
   "execution_count": 33,
   "outputs": [
    {
     "data": {
      "text/plain": "(726, 21)"
     },
     "execution_count": 33,
     "metadata": {},
     "output_type": "execute_result"
    }
   ],
   "source": [
    "import numpy as np\n",
    "\n",
    "X = np.array(data)\n",
    "X.shape"
   ],
   "metadata": {
    "collapsed": false,
    "pycharm": {
     "name": "#%%\n"
    }
   }
  },
  {
   "cell_type": "code",
   "execution_count": 34,
   "outputs": [],
   "source": [
    "from sklearn.neighbors import NearestNeighbors\n",
    "\n",
    "nbrs = NearestNeighbors(n_neighbors=2, algorithm='ball_tree').fit(X)"
   ],
   "metadata": {
    "collapsed": false,
    "pycharm": {
     "name": "#%%\n"
    }
   }
  },
  {
   "cell_type": "code",
   "execution_count": 36,
   "outputs": [
    {
     "name": "stdout",
     "output_type": "stream",
     "text": [
      "kneighbors of Emotion(PA=0.1398622996458419, PE=0, PD=0, PH=0.41148582859157773, PG=0, PB=0.11334713828394757, PK=0, NA=0, NB=0.040660937589600016, NJ=0, NH=0, PF=0.06367286256663753, NI=0, NC=0.06174120171419717, NG=0, NE=0, ND=0.13856680617549905, NN=0.030662925432699092, NK=0, NL=0, PC=0): \n",
      "indices=array([[  0, 226, 442, 532, 593, 588, 666, 104, 617, 181]])\n",
      "distances=array([[0.        , 0.14438086, 0.1590296 , 0.1638293 , 0.16469269,\n",
      "        0.16578893, 0.16783254, 0.17223264, 0.1739159 , 0.17633226]])\n"
     ]
    }
   ],
   "source": [
    "s = Emotion(PA=0.1398622996458419, PE=0, PD=0, PH=0.41148582859157773, PG=0, PB=0.11334713828394757, PK=0, NA=0,\n",
    "            NB=0.040660937589600016, NJ=0, NH=0, PF=0.06367286256663753, NI=0, NC=0.06174120171419717, NG=0, NE=0,\n",
    "            ND=0.13856680617549905, NN=0.030662925432699092, NK=0, NL=0, PC=0)\n",
    "distances, indices = nbrs.kneighbors([s], 10)\n",
    "\n",
    "print(f'kneighbors of {s}: \\n{indices=}\\n{distances=}')"
   ],
   "metadata": {
    "collapsed": false,
    "pycharm": {
     "name": "#%%\n"
    }
   }
  },
  {
   "cell_type": "code",
   "execution_count": 37,
   "outputs": [
    {
     "name": "stdout",
     "output_type": "stream",
     "text": [
      "dist=0.0000: (60008)\t桃花朵朵开 - ['阿牛']\n",
      "dist=0.1444: (101906)\t只要为你活一天 - ['刘家昌']\n",
      "dist=0.1590: (144378)\t死不了 - ['任贤齐']\n",
      "dist=0.1638: (165347)\t风度 - ['汪苏泷']\n",
      "dist=0.1647: (168053)\t故乡 - ['许巍']\n",
      "dist=0.1658: (167955)\t完美生活(Live) - ['许巍']\n",
      "dist=0.1678: (185792)\t爱的初体验 - ['张震岳']\n",
      "dist=0.1722: (67358)\t你有心 - ['关心妍']\n",
      "dist=0.1739: (171254)\t沉默是金(Live) - ['许冠杰']\n",
      "dist=0.1763: (92311)\t西厢 - ['后弦']\n"
     ]
    }
   ],
   "source": [
    "for i in range(len(indices[0])):\n",
    "    idx = indices[0][i]\n",
    "    dst = distances[0][i]\n",
    "\n",
    "    id = data_ids[idx]\n",
    "    t = session.query(Track).where(Track.id == id)[0]\n",
    "    ar = list(map(lambda a: a.name, t.artists_collection))\n",
    "\n",
    "    print(f'dist={dst:.4f}: ({t.id})\\t{t.name} - {ar}')"
   ],
   "metadata": {
    "collapsed": false,
    "pycharm": {
     "name": "#%%\n"
    }
   }
  },
  {
   "cell_type": "markdown",
   "source": [
    "...意外了，效果还比较不错。。再试一次："
   ],
   "metadata": {
    "collapsed": false,
    "pycharm": {
     "name": "#%% md\n"
    }
   }
  },
  {
   "cell_type": "code",
   "execution_count": 39,
   "outputs": [
    {
     "name": "stdout",
     "output_type": "stream",
     "text": [
      "dist=0.0000: (156193)\t为你写诗 - ['吴克群']\n",
      "dist=0.1192: (185884)\t退后 - ['周杰伦']\n",
      "dist=0.1263: (60102)\t天使的翅膀 - ['安琥']\n",
      "dist=0.1592: (92255)\t你还欠我一个拥抱 - ['后弦', 'Sara']\n",
      "dist=0.1600: (66525)\t有没有人告诉你 - ['陈楚生']\n",
      "dist=0.1626: (165377)\t等不到你 - ['汪苏泷']\n",
      "dist=0.1630: (96087)\t爱情诺曼底 - ['黄征']\n",
      "dist=0.1654: (185697)\t花海 - ['周杰伦']\n",
      "dist=0.1775: (103886)\t爱情惹的祸 - ['kenta-k.uz.']\n",
      "dist=0.1781: (167732)\t千百度 - ['许嵩']\n"
     ]
    }
   ],
   "source": [
    "s = data[500]\n",
    "\n",
    "distances, indices = nbrs.kneighbors([s], 10)\n",
    "\n",
    "for i in range(len(indices[0])):\n",
    "    idx = indices[0][i]\n",
    "    dst = distances[0][i]\n",
    "\n",
    "    id = data_ids[idx]\n",
    "    t = session.query(Track).where(Track.id == id)[0]\n",
    "    ar = list(map(lambda a: a.name, t.artists_collection))\n",
    "\n",
    "    print(f'dist={dst:.4f}: ({t.id})\\t{t.name} - {ar}')"
   ],
   "metadata": {
    "collapsed": false,
    "pycharm": {
     "name": "#%%\n"
    }
   }
  },
  {
   "cell_type": "code",
   "execution_count": 40,
   "outputs": [
    {
     "name": "stdout",
     "output_type": "stream",
     "text": [
      "dist=0.0000: (108242)\t她说 - ['林俊杰']\n",
      "dist=0.1029: (157276)\tLast Dance - ['伍佰 & China Blue']\n",
      "dist=0.1121: (110452)\t爱转角 - ['罗志祥']\n",
      "dist=0.1218: (139359)\t且听风吟 - ['朴树']\n",
      "dist=0.1225: (150565)\t二十二 - ['陶喆']\n",
      "dist=0.1230: (108254)\t一眼万年 - ['林俊杰']\n",
      "dist=0.1360: (167937)\t断桥残雪 - ['许嵩']\n",
      "dist=0.1379: (65642)\t一生何求 - ['陈百强']\n",
      "dist=0.1410: (187341)\t春夏秋冬 - ['张国荣']\n",
      "dist=0.1412: (168107)\t故乡 - ['许巍']\n"
     ]
    }
   ],
   "source": [
    "s = data[250]\n",
    "\n",
    "distances, indices = nbrs.kneighbors([s], 10)\n",
    "\n",
    "for i in range(len(indices[0])):\n",
    "    idx = indices[0][i]\n",
    "    dst = distances[0][i]\n",
    "\n",
    "    id = data_ids[idx]\n",
    "    t = session.query(Track).where(Track.id == id)[0]\n",
    "    ar = list(map(lambda a: a.name, t.artists_collection))\n",
    "\n",
    "    print(f'dist={dst:.4f}: ({t.id})\\t{t.name} - {ar}')"
   ],
   "metadata": {
    "collapsed": false,
    "pycharm": {
     "name": "#%%\n"
    }
   }
  },
  {
   "cell_type": "markdown",
   "source": [
    "其实这些歌都差不多，数据特殊了。。明天再研究。"
   ],
   "metadata": {
    "collapsed": false,
    "pycharm": {
     "name": "#%% md\n"
    }
   }
  }
 ],
 "metadata": {
  "kernelspec": {
   "display_name": "Python 3",
   "language": "python",
   "name": "python3"
  },
  "language_info": {
   "codemirror_mode": {
    "name": "ipython",
    "version": 2
   },
   "file_extension": ".py",
   "mimetype": "text/x-python",
   "name": "python",
   "nbconvert_exporter": "python",
   "pygments_lexer": "ipython2",
   "version": "2.7.6"
  }
 },
 "nbformat": 4,
 "nbformat_minor": 0
}