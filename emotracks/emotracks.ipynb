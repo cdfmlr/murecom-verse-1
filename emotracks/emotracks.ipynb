{
 "cells": [
  {
   "cell_type": "code",
   "execution_count": 189,
   "metadata": {
    "collapsed": true
   },
   "outputs": [],
   "source": [
    "# load config\n",
    "\n",
    "import json\n",
    "\n",
    "with open('config.json') as f:\n",
    "    config = json.load(f)"
   ]
  },
  {
   "cell_type": "code",
   "execution_count": 190,
   "outputs": [
    {
     "name": "stdout",
     "output_type": "stream",
     "text": [
      "[<class 'sqlalchemy.ext.automap.artists'>, <class 'sqlalchemy.ext.automap.albums'>, <class 'sqlalchemy.ext.automap.comments'>, <class 'sqlalchemy.ext.automap.users'>, <class 'sqlalchemy.ext.automap.tracks'>, <class 'sqlalchemy.ext.automap.playlists'>, <class 'sqlalchemy.ext.automap.playlist_tracks'>, <class 'sqlalchemy.ext.automap.track_emotions'>]\n"
     ]
    }
   ],
   "source": [
    "# init db\n",
    "\n",
    "from sqlalchemy import create_engine\n",
    "from sqlalchemy.ext.automap import automap_base\n",
    "\n",
    "engine = create_engine(config['db'])\n",
    "# 用 automap_base 自动反射成库中已有的类型\n",
    "# https://docs.sqlalchemy.org/en/14/orm/extensions/automap.html\n",
    "Base = automap_base()\n",
    "Base.prepare(engine, reflect=True)\n",
    "\n",
    "print(list(Base.classes))"
   ],
   "metadata": {
    "collapsed": false,
    "pycharm": {
     "name": "#%%\n"
    }
   }
  },
  {
   "cell_type": "code",
   "execution_count": 191,
   "outputs": [],
   "source": [
    "# 注意这里反射出的类名是带 s 的，直接是表名。\n",
    "\n",
    "# 还有 playlist_tracks 是自定义的，automap 不出来 many2many 关系。\n",
    "# (See https://docs.sqlalchemy.org/en/14/orm/extensions/automap.html#many-to-many-relationships)\n",
    "# 但这里好像不用 playlist，就先不管了。\n",
    "\n",
    "Track = Base.classes.tracks\n",
    "Comment = Base.classes.comments"
   ],
   "metadata": {
    "collapsed": false,
    "pycharm": {
     "name": "#%%\n"
    }
   }
  },
  {
   "cell_type": "code",
   "execution_count": 192,
   "outputs": [
    {
     "data": {
      "text/plain": "mappingproxy({'__table__': Table('tracks', MetaData(), Column('id', BIGINT(), table=<tracks>, primary_key=True, nullable=False, server_default=DefaultClause(<sqlalchemy.sql.elements.TextClause object at 0x1164586a0>, for_update=False)), Column('name', TEXT(), table=<tracks>), Column('pop', BIGINT(), table=<tracks>), Column('publish_time', BIGINT(), table=<tracks>), Column('lyric', TEXT(), table=<tracks>), schema=None),\n              '__module__': 'sqlalchemy.ext.automap',\n              '__doc__': None,\n              '_sa_class_manager': <ClassManager of <class 'sqlalchemy.ext.automap.tracks'> at 11f268220>,\n              '__init__': <function sqlalchemy.orm.instrumentation.__init__(self, **kwargs)>,\n              'comments_collection': <sqlalchemy.orm.attributes.InstrumentedAttribute at 0x11f42b590>,\n              'albums_collection': <sqlalchemy.orm.attributes.InstrumentedAttribute at 0x11f42b680>,\n              'id': <sqlalchemy.orm.attributes.InstrumentedAttribute at 0x11f42b450>,\n              'name': <sqlalchemy.orm.attributes.InstrumentedAttribute at 0x11f42b770>,\n              'pop': <sqlalchemy.orm.attributes.InstrumentedAttribute at 0x11f42b810>,\n              'publish_time': <sqlalchemy.orm.attributes.InstrumentedAttribute at 0x11f42b8b0>,\n              'lyric': <sqlalchemy.orm.attributes.InstrumentedAttribute at 0x11f42b950>,\n              '__mapper__': <Mapper at 0x115e7bb50; tracks>})"
     },
     "execution_count": 192,
     "metadata": {},
     "output_type": "execute_result"
    }
   ],
   "source": [
    "vars(Track)"
   ],
   "metadata": {
    "collapsed": false,
    "pycharm": {
     "name": "#%%\n"
    }
   }
  },
  {
   "cell_type": "code",
   "execution_count": 193,
   "outputs": [
    {
     "name": "stdout",
     "output_type": "stream",
     "text": [
      "t.id=557583289, t.name='Honey', t.pop=100\n",
      "\tartists=['Raveena']\n",
      "\tcomments=['raveena - Honey 2018-5-9 单曲已上传 手机处理中 正在吃饭 ', '还没分别，已在心里写信', '你这样子我会胡思乱想的', '“今晚的星星和月亮都像你 遥不可及地好看”', '““躺在蜂蜜罐子里泡个澡\\n再去面包的奶油层里打个滚儿\\n做个好吃的梦”\\n\\n/魏什么是泡芙呀 \\u200b\\u200b\\u200b”----德卡先生的信箱', '温的水，柔的人，交织的温存。', '好啦，我错了，改改就好啦。', '想让你浑身乏力时喊我的名字', '狗在家中坐  粮从天上来', '狗在被窝躺 粮从天上来', '这世上至少有一半冷漠都是害羞', '想要一个拥抱 用体温把刚出炉的委屈烘烤掉', '可是那样太容易错过人了[流泪]', \"最后五个 You're honey 不如翻译成\\n你是蜂蜜 你好甜蜜 你是我的爱人 你是我的唯一 我好爱你\\nWaterfall falling through my roof. 爱意如瀑布洒落房间\\nMy cup is fuller when you're here.你在的时候 爱意满溢 满杯甜蜜。\\n来自一个英语专业同学的小声逼逼💜🌟✨愿喜💜\", '那个和我品味一样奇怪的混蛋男人什么时候才出现', '瀑布的这句太棒啦！！', '牛奶和蜂蜜一起喝会窜稀的哦', '遇见一个喜欢爵士的女孩，推荐的歌像清风摇曳。', '我始终觉得，爱意就是要让对方感受到。哪怕被回绝、被辜负也总好过堆在心里腐烂掉。要学会大大方方地表达爱意，爱不是冷冰冰或者讲反话。爱应该是炽热的，永远都是。', '有喜欢这首歌的女生请联系我，我想和你原地结婚']\n",
      "t.id=565841054, t.name='Say My Name', t.pop=100\n",
      "\tartists=['NIKI']\n",
      "\tcomments=['撩的都是不喜欢的，真正喜欢的都是小心翼翼的', '每当天色暗下来，想念就渐渐发芽，长出你的名字来。', '也许我们的温柔也就那夜晚的几个小时[心碎] 不会再见', 'Niki好像是被A妹力捧的新声代耶 难怪嗓音独特中带着杏菜的调调', '有一说一这歌我不敢轻易分享🌚', '来北京后的第一件事就是找公寓\\n和房东太太搓了几个礼拜的麻将\\n我才能租到这间不错的公寓\\n上个月我买了一只猫\\n床上被它搞得一团糟', '我居然能把“say my say my say my name boy”听成“see my see my see my nipple”，我咋是个这啊，不想活了[惶恐]', '睡前听了这歌，晚上就做了春梦，太快乐了', '想和你 在 厨房 阳台 卫生间 大厅 房间 树林 公交车 各种场合 想和你 一起 创新 想和你 缠绵不休 想和你 一起 从 晚到 清晨 想依偎 在你的 怀里 然后你说着 各种 秘语 然后我 有滋有味的 听着然后开始', '\"所有被你吻过的地方都生病了它们吵着嚷着要你 它们蜷缩在一起哀号 贴着肌肤的纹理潜入身体形成一个个病灶 它们哭啊怮啊忍啊咬啊 烧灼肺腑 漫溢到喉头传递到舌尖 轻轻的呵成一段淫靡的乐章 不假思索千求万唤的求你给我\"', '女孩子总以为截屏就能留下某些东西', '你要悄悄怀孕然后惊艳所有人🐶', '什么时候才能交到听这些歌的朋友啊……', '已经睡到自己喜欢的男孩子。', '这首歌太适合作为婚礼背景音乐了，我每次结婚都用这首歌。', '东北版歌词\\n你不用在那跟我摆架势男孩\\n你也不用非得吵吵吧喊滴在那\\n过来一起跟我整点别的声儿\\n我先整你先整你个隔看着办\\n一进屋\\n我就知道你在那合计啥呢\\n咱俩就该整啥就整啥吧\\n我温柔的撒么着你\\n来吧宝贝咱俩去月球溜达一圈去\\n爱情啊\\n别整声了快溜关门吧\\n咱俩就干你寻思那事\\n只要你\\n张呼我，张呼我的名', '分手就分手，你去蚂蚁庄园揍我的鸡 ？？？？？', '泡澡的时候听这首歌，水不小心溢出来了。', '她为什么要唱“新闻 新闻 新闻联播”']\n",
      "t.id=1382441642, t.name='很短的夜晚小记', t.pop=100\n",
      "\tartists=['MZ92']\n",
      "\tcomments=['生活也许不尽人意 静进来就好了', '我独居在一间不大的出租房里，蜷缩在窄小的床上，听着外面淅淅沥沥的雨声，想着昨天、今天，和明天，生活太苦了，可又有什么办法，想着想着，就困了，睡吧，还要继续坚持下去不是吗？', '英语课上，老师问你们认为的孤独是什么，轮到我的时候，我说：When I was asleep, she told me in the dream that you were awake（当我入睡的时候，梦里的她对我说：你醒了。）然后全班突然安静了', '生活就是摘掉耳机后的喧嚣。', '作者希望大家若喜欢此曲 能赞赏此曲 赏一口饭钱 人人献出一点爱 世界更美好 也鼓励作者创作出更多好作品🌝🌚😌🌚', '体验了嗜睡 失眠两个极端', '“最近还好吗”\\n“不好，一点都不好，我快撑不下去了”\\n“你在说什么呀”\\n“哦，抱歉刚刚走神了，奶茶很好喝”', '我是一个没有感情的杀手', '你一生的愿望是什么？', '活得自由  做自己喜欢的事  身边的人都是自己喜欢的  简单一点 就够了', '你不知道我有多么想回到2008年 那个时候一切还来得及 ', '我发誓我能永远陪着你', '很认真的问了下自己 结果答不出来', '大家都要开心每一天喔 ❤️祝福你们 ！', '洗澡要放歌\\n厕所带手机\\n睡觉要侧面\\n坐车要靠窗', '和父母争得面红耳赤的时候我没哭\\n被老师冤枉同学嘲笑的时候我没哭\\n爷爷去世我没能赶到的时候我没哭\\n喜欢的人不喜欢我了的时候我没哭\\n摔了一跤左脚骨裂了的时候我没哭\\n却在梳头的时候头发打结我哭了好久', '高二 正在接受校园冷暴力。', '对不起对不起对不起看成了很短小的夜晚', '今天背了110个单词，写了27道数学题，背了10篇古诗词，排名进步了230名，我考得上我可以', '别往下滑了，你不是还有事情要做？']\n"
     ]
    }
   ],
   "source": [
    "# 试试查询\n",
    "\n",
    "from sqlalchemy.orm import Session\n",
    "\n",
    "session = Session(engine)\n",
    "\n",
    "tks = session.query(Track).order_by(Track.pop.desc())\n",
    "for t in tks[0: 3]:\n",
    "    artists = list(map(lambda x: x.name, t.artists_collection))\n",
    "    comments = list(map(lambda x: x.content, t.comments_collection))\n",
    "    print(f'{t.id=}, {t.name=}, {t.pop=}\\n\\t{artists=}\\n\\t{comments=}')"
   ],
   "metadata": {
    "collapsed": false,
    "pycharm": {
     "name": "#%%\n"
    }
   }
  },
  {
   "cell_type": "code",
   "execution_count": 194,
   "outputs": [],
   "source": [
    "# new table\n",
    "# 只是建个表，只需要执行一次。\n",
    "# 这好像也不比手写 SQL 快耶。。。下次别这么搞了。\n",
    "\n",
    "'''\n",
    "from sqlalchemy import Column, Text, Float, ForeignKey, BigInteger\n",
    "from sqlalchemy.orm import relationship\n",
    "\n",
    "\n",
    "class TrackEmotion(Base):\n",
    "    __tablename__ = 'track_emotions'\n",
    "\n",
    "    track_id = Column(BigInteger, ForeignKey('tracks.id'), primary_key=True)\n",
    "    emotion = Column(Text, primary_key=True)\n",
    "    intensity = Column(Float)\n",
    "\n",
    "    track = relationship('Track')\n",
    "\n",
    "Base.metadata.create_all(engine)\n",
    "# Track.track_emotions = relationship(\"TrackEmotion\")\n",
    "\n",
    "# Base.metadata.create_all(engine)\n",
    "'''\n",
    "TrackEmotion = Base.classes.track_emotions"
   ],
   "metadata": {
    "collapsed": false,
    "pycharm": {
     "name": "#%%\n"
    }
   }
  },
  {
   "cell_type": "code",
   "execution_count": 195,
   "outputs": [
    {
     "name": "stdout",
     "output_type": "stream",
     "text": [
      "0\n",
      "0\n",
      "144797\n",
      "33495 0.23132385339475264 33495.0\n",
      "13371 0.09234307340621697 13371.0\n",
      "13741 0.09489837496633217 13741.0\n",
      "3375 0.02330849396051023 3374.9999999999995\n",
      "2867 0.019800133980676395 2867.0\n",
      "2293 0.01583596345228147 2293.0\n",
      "12673 0.08752253154416183 12673.0\n",
      "6041 0.04172047763420513 6041.000000000001\n",
      "3782 0.026119325676636947 3782.0\n",
      "7114 0.0491308521585392 7114.0\n",
      "2420 0.016713053447239928 2420.0\n",
      "1793 0.012382853235909584 1793.0\n",
      "2404 0.016602553920316027 2404.0\n",
      "2272 0.01569093282319385 2272.0\n",
      "5951 0.04109891779525819 5951.0\n",
      "12520 0.08646587981795203 12520.0\n",
      "1734 0.0119753862303777 1734.0\n",
      "9807 0.06772930378391817 9807.0\n",
      "7144 0.04933803877152151 7144.0\n"
     ]
    }
   ],
   "source": [
    "tks = session.query(Track)\n",
    "for t in tks[0: 3]:\n",
    "    comments = t.comments_collection\n",
    "    liked_counts = [c.liked_count for c in comments]\n",
    "    sum_liked = sum(liked_counts)\n",
    "    print(sum_liked)\n",
    "    liked_weights = [liked / sum_liked for liked in liked_counts]\n",
    "    for comment, liked_weight in zip(comments, liked_weights):\n",
    "        print(comment.liked_count, liked_weight, liked_weight * sum_liked)"
   ],
   "metadata": {
    "collapsed": false,
    "pycharm": {
     "name": "#%%\n"
    }
   }
  },
  {
   "cell_type": "code",
   "execution_count": 200,
   "outputs": [
    {
     "name": "stdout",
     "output_type": "stream",
     "text": [
      "Boo Thang ['PB', 'NN', 'NB', 'PE']\n",
      "Gimme That (Prod. Stally, Colde) ['PB', 'NN', 'PH']\n",
      "Say My Name ['PB', 'PH', 'NB', 'NC', 'PG', 'PA', 'PF', 'NN', 'PE', 'ND', 'NE']\n"
     ]
    }
   ],
   "source": [
    "from math import log\n",
    "import emotext\n",
    "\n",
    "Emo = emotext.Emotions()\n",
    "\n",
    "\n",
    "def track_emotion(t: Track):\n",
    "    lyrics = t.lyric\n",
    "    comments = t.comments_collection\n",
    "    if (not comments) and (not lyrics):\n",
    "        return\n",
    "\n",
    "    texts = [c.content for c in comments]\n",
    "    liked_counts = [c.liked_count for c in comments]\n",
    "    if lyrics:\n",
    "        texts.append(lyrics)\n",
    "        liked_counts.append(sum(liked_counts) * 10)\n",
    "\n",
    "    liked_weights = [log(1.01 + l, 10) for l in liked_counts]\n",
    "\n",
    "    track_emotions = emotext.EmotionCountResult().emotions\n",
    "\n",
    "    for text, weight in zip(texts, liked_weights):\n",
    "        emo_result = Emo.emotion_count(text)\n",
    "\n",
    "        # print(text, weight, sorted(emo_result.emotions.items(), key=lambda x: -x[-1]))\n",
    "        for k, v in emo_result.emotions.items():\n",
    "            if not v:\n",
    "                continue\n",
    "            track_emotions[k] += v * weight\n",
    "\n",
    "    return track_emotions\n",
    "\n",
    "\n",
    "def add_emotion(t: Track, verbose=False):\n",
    "    emo_res = track_emotion(t)\n",
    "    if not emo_res:\n",
    "        return\n",
    "\n",
    "    sum_v = sum(emo_res.values())\n",
    "\n",
    "    if sum_v:\n",
    "        t.track_emotions_collection = []\n",
    "\n",
    "    for e, v in emo_res.items():\n",
    "        if not v:\n",
    "            continue\n",
    "        v = v / sum_v\n",
    "        t.track_emotions_collection.append(TrackEmotion(emotion=e, intensity=v))\n",
    "    session.commit()\n",
    "\n",
    "    if verbose:\n",
    "        print(t.name, [k for k, v in sorted(emo_res.items(), key=lambda x: -x[-1]) if v])\n",
    "\n",
    "tks = session.query(Track)\n",
    "for t in tks[0: 3]:\n",
    "    add_emotion(t, verbose=True)"
   ],
   "metadata": {
    "collapsed": false,
    "pycharm": {
     "name": "#%%\n"
    }
   }
  },
  {
   "cell_type": "code",
   "execution_count": null,
   "outputs": [],
   "source": [],
   "metadata": {
    "collapsed": false,
    "pycharm": {
     "name": "#%%\n"
    }
   }
  }
 ],
 "metadata": {
  "kernelspec": {
   "display_name": "Python 3",
   "language": "python",
   "name": "python3"
  },
  "language_info": {
   "codemirror_mode": {
    "name": "ipython",
    "version": 2
   },
   "file_extension": ".py",
   "mimetype": "text/x-python",
   "name": "python",
   "nbconvert_exporter": "python",
   "pygments_lexer": "ipython2",
   "version": "2.7.6"
  }
 },
 "nbformat": 4,
 "nbformat_minor": 0
}