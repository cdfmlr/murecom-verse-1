{
 "cells": [
  {
   "cell_type": "markdown",
   "metadata": {
    "collapsed": true,
    "pycharm": {
     "name": "#%% md\n"
    }
   },
   "source": [
    "# 照片 -> 情感 -> 推荐音乐\n",
    "\n",
    "基本的操作全是复用 recommend-text.ipynb 里面的代码，只是最后从的推荐从\n",
    "\n",
    "- 文本 => emotext => recommend\n",
    "\n",
    "改成:\n",
    "\n",
    "- 图片 => emopic => recommend"
   ]
  },
  {
   "cell_type": "code",
   "execution_count": 1,
   "outputs": [],
   "source": [
    "# load config\n",
    "\n",
    "import json\n",
    "\n",
    "with open('config.json') as f:\n",
    "    config = json.load(f)"
   ],
   "metadata": {
    "collapsed": false,
    "pycharm": {
     "name": "#%%\n"
    }
   }
  },
  {
   "cell_type": "code",
   "execution_count": 2,
   "outputs": [],
   "source": [
    "# init db\n",
    "\n",
    "from sqlalchemy import create_engine\n",
    "from sqlalchemy.orm import Session\n",
    "from sqlalchemy.ext.automap import automap_base\n",
    "\n",
    "engine = create_engine(config['db'])\n",
    "\n",
    "Base = automap_base()\n",
    "Base.prepare(engine, reflect=True)\n",
    "\n",
    "Track = Base.classes.tracks\n",
    "Comment = Base.classes.comments\n",
    "TrackEmotion = Base.classes.track_emotions\n",
    "\n",
    "session = Session(engine)"
   ],
   "metadata": {
    "collapsed": false,
    "pycharm": {
     "name": "#%%\n"
    }
   }
  },
  {
   "cell_type": "code",
   "execution_count": 3,
   "outputs": [],
   "source": [
    "# emotion vector\n",
    "\n",
    "from typing import List\n",
    "from collections import namedtuple\n",
    "\n",
    "import emotext\n",
    "\n",
    "Emotion = namedtuple('Emotion', emotext.emotions)\n",
    "\n",
    "\n",
    "def keys(self):\n",
    "    return self._fields\n",
    "\n",
    "\n",
    "def values(self):\n",
    "    return tuple(self)\n",
    "\n",
    "\n",
    "Emotion.keys = keys\n",
    "Emotion.values = values\n",
    "\n",
    "\n",
    "def emotion_vector(emotions: List[TrackEmotion]) -> Emotion:\n",
    "    elems = dict.fromkeys(emotext.emotions, 0)\n",
    "    elems.update({x.emotion: x.intensity for x in emotions})\n",
    "    ev = Emotion(**elems)\n",
    "\n",
    "    return ev"
   ],
   "metadata": {
    "collapsed": false,
    "pycharm": {
     "name": "#%%\n"
    }
   }
  },
  {
   "cell_type": "markdown",
   "source": [
    "NEW: load model\n",
    "\n",
    "下面这一步有点新了，不训练模型了，recommend-text.ipynb 里面已经有训练、保存好了。\n",
    "这里直接取一个模型出来用就行了。"
   ],
   "metadata": {
    "collapsed": false,
    "pycharm": {
     "name": "#%% md\n"
    }
   }
  },
  {
   "cell_type": "code",
   "execution_count": 4,
   "outputs": [],
   "source": [
    "# NEW: load model\n",
    "\n",
    "import json\n",
    "import joblib\n",
    "\n",
    "\n",
    "def load_data_model(data_file, model_file):\n",
    "    with open(data_file) as df:\n",
    "        d = json.load(df)\n",
    "    m = joblib.load(model_file)\n",
    "    return d, m\n",
    "\n",
    "\n",
    "data, nbrs = load_data_model('savedata/7597.json', 'savemodels/7597.joblib')"
   ],
   "metadata": {
    "collapsed": false,
    "pycharm": {
     "name": "#%%\n"
    }
   }
  },
  {
   "cell_type": "markdown",
   "source": [
    "NEW: recommend from picture\n",
    "\n",
    "类似于 recommend-text.ipynb 的 recommend_from_text，\n",
    "只是改成输入图片。"
   ],
   "metadata": {
    "collapsed": false,
    "pycharm": {
     "name": "#%% md\n"
    }
   }
  },
  {
   "cell_type": "code",
   "execution_count": 5,
   "outputs": [
    {
     "name": "stdout",
     "output_type": "stream",
     "text": [
      "Emotion(PA=0.11634041808839453, PE=0.0, PD=0.0, PH=0.0, PG=0.0, PB=0.0, PK=0.0, NA=0.1087746974602945, NB=0.0922441065005837, NJ=0.08406206226681162, NH=0.0, PF=0.0, NI=0.0, NC=0.04742825954853861, NG=0.0, NE=0.11293075099407504, ND=0.11102636835423838, NN=0.1458165258228255, NK=0.0, NL=0.1402710438773809, PC=0.04110576708685707)\n",
      "dist=0.2090: (36871866)\t 隐形的翅膀 (Live) - ['张韶涵']\n",
      "dist=0.2270: (451126971)\t Paris - ['Else']\n",
      "dist=0.2282: (316486)\t 野孩子 - ['杨千嬅']\n",
      "dist=0.2351: (26116350)\t GASSHOW - ['illion']\n",
      "dist=0.2412: (28923455)\t 路 - ['隔壁团乐队']\n",
      "dist=0.2452: (740765)\t しろつめくさ - ['ハンバート ハンバート']\n",
      "dist=0.2466: (498371679)\t ι - ['α·Pav']\n",
      "dist=0.2472: (27888500)\t Turn Down for What - ['Lil Jon', 'DJ Snake']\n",
      "dist=0.2480: (520460196)\t I always smile but my eyes are sad - ['asokah.']\n",
      "dist=0.2524: (447079586)\t Look At Me! - ['XXXTENTACION']\n"
     ]
    }
   ],
   "source": [
    "from emopic.emotic2emotext import emotic2dlut\n",
    "\n",
    "import requests\n",
    "\n",
    "EMOPIC_SERVER = 'http://localhost:8080/infer'\n",
    "\n",
    "\n",
    "def emotion_from_pic(imgpath: str) -> Emotion:\n",
    "    \"\"\"从图片中获取情感。\n",
    "\n",
    "    请求 emopic/emotic 的 EMOPIC_SERVER 服务，获取给定图片的情感。\n",
    "    会考虑图片中所有人物 (bbox from yolo)，以图片中人物所占面积比为权重，加权平均。\n",
    "\n",
    "    :param imgpath: 图片路径\n",
    "    :return: Emotion 对象\n",
    "    \"\"\"\n",
    "    resp = requests.post(EMOPIC_SERVER, files={\n",
    "        'img': (imgpath, open(imgpath, 'rb')),\n",
    "    })\n",
    "    # [{\n",
    "    #   \"bbox\": [65, 15, 190, 186],\n",
    "    #   \"cat\": {\"Excitement\": 0.16, \"Peace\": 0.11},\n",
    "    #   \"cont\": [5.97, 6.06, 7.23]\n",
    "    # }]\n",
    "    emotic_result = resp.json()\n",
    "\n",
    "    # 总的情感\n",
    "    total_emotion = dict.fromkeys(emotext.emotions, 0.0)\n",
    "\n",
    "    # 人在图片中占的面积\n",
    "    area = lambda bbox: (bbox[2] - bbox[0]) * (bbox[3] - bbox[1])\n",
    "    areas = [area(p['bbox']) for p in emotic_result]\n",
    "    sum_area = sum(areas)\n",
    "\n",
    "    # 转成 emotext 情感，面积大的人权重大\n",
    "    for person, person_area in zip(emotic_result, areas):\n",
    "        person_emo = emotic2dlut(person['cat'], person['cont'])\n",
    "        weight = person_area / sum_area\n",
    "\n",
    "        for emo, value in person_emo.items():\n",
    "            total_emotion[emo] += value * weight\n",
    "\n",
    "    sum_v = sum(v for v in total_emotion.values())\n",
    "    for k in total_emotion:\n",
    "        total_emotion[k] /= sum_v\n",
    "\n",
    "    return Emotion(**total_emotion)\n",
    "\n",
    "\n",
    "def recommend_from_pic(imgpath: str):\n",
    "    \"\"\"给图片，算情感，找近邻，作推荐\n",
    "\n",
    "    :param imgpath: 推荐种子图片\n",
    "    :return: (emotion, distances, tracks): 计算得到的 text 情感，和推荐结果：距离与曲目\n",
    "    \"\"\"\n",
    "\n",
    "    # get emotion\n",
    "    e = emotion_from_pic(imgpath)\n",
    "\n",
    "    # recommend\n",
    "    distances, indices = nbrs.kneighbors([e], 10)\n",
    "\n",
    "    # result tracks\n",
    "    tracks = []\n",
    "    for i in range(len(indices[0])):\n",
    "        idx = indices[0][i]\n",
    "        tid = data['ids'][idx]\n",
    "        t = session.query(Track).where(Track.id == tid)[0]\n",
    "        tracks.append(t)\n",
    "\n",
    "    return e, distances, tracks\n",
    "\n",
    "\n",
    "def print_nbrs(distances, tracks):\n",
    "    for d, t in zip(distances[0], tracks):\n",
    "        ar = list(map(lambda a: a.name, t.artists_collection))\n",
    "        print(f'dist={d:.4f}: ({t.id})\\t {t.name} - {ar}')\n",
    "\n",
    "\n",
    "emotion, distances, tracks = recommend_from_pic('/Users/c/Desktop/26.jpg')\n",
    "print(emotion)\n",
    "print_nbrs(distances, tracks)"
   ],
   "metadata": {
    "collapsed": false,
    "pycharm": {
     "name": "#%%\n"
    }
   }
  },
  {
   "cell_type": "code",
   "execution_count": 6,
   "outputs": [
    {
     "name": "stdout",
     "output_type": "stream",
     "text": [
      "Emotion(PA=0.0, PE=0.0, PD=0.0, PH=0.0, PG=0.0, PB=0.0, PK=0.0, NA=0.0, NB=0.0, NJ=0.0, NH=0.0, PF=0.169806835930514, NI=0.0, NC=0.0, NG=0.0, NE=0.2716199544371121, ND=0.0, NN=0.04285658614709122, NK=0.19077764267738348, NL=0.32493898080789924, PC=0.0)\n",
      "dist=0.4046: (499673140)\t In The End - ['XXXTENTACION']\n",
      "dist=0.4086: (405599470)\t 疑心病 - ['任然']\n",
      "dist=0.4112: (5151048)\t New Soul - ['Yael Naim']\n",
      "dist=0.4129: (30841627)\t 接下来如何 - ['Hello Nico']\n",
      "dist=0.4192: (430114655)\t Astronomia - ['Vicetone', 'Tony Igy']\n",
      "dist=0.4199: (316451)\t 我的回忆不是我的 - ['海鸣威', '泳儿']\n",
      "dist=0.4246: (165348)\t 停止跳动 - ['汪苏泷']\n",
      "dist=0.4265: (36921285)\t Melody (Original mix) - ['Ash']\n",
      "dist=0.4295: (27600462)\t Runaway Baby - ['Bruno Mars']\n",
      "dist=0.4324: (149763)\t 毕业后你不是我的 - ['孙子涵']\n"
     ]
    }
   ],
   "source": [
    "emotion, distances, tracks = recommend_from_pic('/Users/c/Desktop/1.jpg')\n",
    "print(emotion)\n",
    "print_nbrs(distances, tracks)"
   ],
   "metadata": {
    "collapsed": false,
    "pycharm": {
     "name": "#%%\n"
    }
   }
  },
  {
   "cell_type": "code",
   "execution_count": 7,
   "outputs": [
    {
     "name": "stdout",
     "output_type": "stream",
     "text": [
      "Emotion(PA=0.0, PE=0.0, PD=0.0, PH=0.0, PG=0.0, PB=0.0, PK=0.0, NA=0.0, NB=0.0, NJ=0.15106514434069437, NH=0.0, PF=0.04797134958618257, NI=0.0, NC=0.0, NG=0.0, NE=0.1548680807942048, ND=0.2596078740967889, NN=0.21640554913127888, NK=0.0, NL=0.17008200205085047, PC=0.0)\n",
      "dist=0.2391: (19934760)\t Leaves in the Wind - ['Isaac Shepard']\n",
      "dist=0.2498: (418708385)\t ミチノチモシーキミノキモチ - ['森永千才']\n",
      "dist=0.2646: (139703)\t 我想更懂你 - ['潘玮柏', '苏芮']\n",
      "dist=0.2731: (29009655)\t East of Eden - ['Zella Day']\n",
      "dist=0.2777: (718551)\t 比翼の羽根 - ['eufonius']\n",
      "dist=0.2808: (477982)\t Old Memory - ['Bruno Wen-li']\n",
      "dist=0.2822: (17721274)\t Wrecking Ball - ['Frankmusik']\n",
      "dist=0.2822: (421137966)\t 牵丝戏 - ['Aki阿杰', '银临', '大琴师音乐游戏']\n",
      "dist=0.2863: (407889392)\t LA LA LAND (Extended Mix) - ['DVBBS', 'Shaun Frank', 'Delaney Jane']\n",
      "dist=0.2906: (412175153)\t φ¹ - ['α·Pav']\n"
     ]
    }
   ],
   "source": [
    "emotion, distances, tracks = recommend_from_pic('/Users/c/Desktop/21.23.jpg')\n",
    "print(emotion)\n",
    "print_nbrs(distances, tracks)"
   ],
   "metadata": {
    "collapsed": false,
    "pycharm": {
     "name": "#%%\n"
    }
   }
  }
 ],
 "metadata": {
  "kernelspec": {
   "display_name": "Python 3",
   "language": "python",
   "name": "python3"
  },
  "language_info": {
   "codemirror_mode": {
    "name": "ipython",
    "version": 2
   },
   "file_extension": ".py",
   "mimetype": "text/x-python",
   "name": "python",
   "nbconvert_exporter": "python",
   "pygments_lexer": "ipython2",
   "version": "2.7.6"
  }
 },
 "nbformat": 4,
 "nbformat_minor": 0
}